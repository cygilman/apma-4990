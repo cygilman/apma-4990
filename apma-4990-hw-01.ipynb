{
 "cells": [
  {
   "cell_type": "code",
   "execution_count": null,
   "metadata": {},
   "outputs": [],
   "source": [
    "import xarray as xr\n",
    "from matplotlib import pyplot as plt\n",
    "import cftime\n",
    "\n",
    "#function to help xarray understand months\n",
    "def fix_calendar(ds, timevar = 'T'):\n",
    "    if ds[timevar].attrs['calendar'] == '360':\n",
    "        ds[timevar].attrs['calendar'] = '360_day'\n",
    "    return ds\n",
    "\n",
    "dl_url = 'http://iridl.ldeo.columbia.edu'\n",
    "ERSSTv5_url = 'SOURCES/.NOAA/.NCDC/.ERSST/.version5/.sst/'\n",
    "n34box_url = 'Y/-5/5/RANGEEDGES/X/190/240/RANGEEDGES/[X/Y]average/'\n",
    "n34_url = dl_url + ERSSTv5_url + n34box_url + \"zlev/removeGRID/yearly-anomalies/dods\"\n",
    "\n",
    "n34_ds = xr.open_dataset(n34_url,decode_times=False)\n",
    "n34_ds = fix_calendar(n34_ds)\n",
    "n34_ds = xr.decode_cf(n34_ds)\n",
    "\n",
    "fig, ax = plt.subplots(figsize=(20,5))\n",
    "n34_ds.sst.plot();"
   ]
  },
  {
   "cell_type": "code",
   "execution_count": null,
   "metadata": {},
   "outputs": [],
   "source": []
  }
 ],
 "metadata": {
  "kernelspec": {
   "display_name": "Python 3",
   "language": "python",
   "name": "python3"
  },
  "language_info": {
   "codemirror_mode": {
    "name": "ipython",
    "version": 3
   },
   "file_extension": ".py",
   "mimetype": "text/x-python",
   "name": "python",
   "nbconvert_exporter": "python",
   "pygments_lexer": "ipython3",
   "version": "3.8.5"
  }
 },
 "nbformat": 4,
 "nbformat_minor": 4
}
